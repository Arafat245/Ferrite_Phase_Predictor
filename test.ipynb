{
 "cells": [
  {
   "cell_type": "code",
   "execution_count": 1,
   "id": "42236347-aca4-419d-afd3-fd3fef43f1c7",
   "metadata": {},
   "outputs": [],
   "source": [
    "from our import *"
   ]
  },
  {
   "cell_type": "code",
   "execution_count": 2,
   "id": "21b1ee17-c819-4bcc-8431-18875841d9ea",
   "metadata": {},
   "outputs": [
    {
     "data": {
      "text/plain": [
       "59"
      ]
     },
     "execution_count": 2,
     "metadata": {},
     "output_type": "execute_result"
    }
   ],
   "source": [
    "our_calc(C=0.150, N=0.171, Mn=2.10, Ni=8.40, Cr=29.90, Mo=0.20, Si=0, Cu=0, Nb=0)"
   ]
  },
  {
   "cell_type": "code",
   "execution_count": 3,
   "id": "359f8b96-2607-4bdc-a20d-b950ff43a3d3",
   "metadata": {},
   "outputs": [
    {
     "data": {
      "text/plain": [
       "0"
      ]
     },
     "execution_count": 3,
     "metadata": {},
     "output_type": "execute_result"
    }
   ],
   "source": [
    "our_calc(C=0.075, N=0, Mn=2, Ni=8.50, Cr=15.50, Mo=1.75, Si=0, Cu=0, Nb=0)"
   ]
  },
  {
   "cell_type": "code",
   "execution_count": null,
   "id": "01294bdc-fc32-4b75-af48-cb0c694e6100",
   "metadata": {},
   "outputs": [],
   "source": []
  }
 ],
 "metadata": {
  "kernelspec": {
   "display_name": "Python 3 (ipykernel)",
   "language": "python",
   "name": "python3"
  },
  "language_info": {
   "codemirror_mode": {
    "name": "ipython",
    "version": 3
   },
   "file_extension": ".py",
   "mimetype": "text/x-python",
   "name": "python",
   "nbconvert_exporter": "python",
   "pygments_lexer": "ipython3",
   "version": "3.12.7"
  }
 },
 "nbformat": 4,
 "nbformat_minor": 5
}
